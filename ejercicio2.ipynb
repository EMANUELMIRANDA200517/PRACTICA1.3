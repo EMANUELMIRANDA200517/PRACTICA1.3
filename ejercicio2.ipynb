{
 "cells": [
  {
   "cell_type": "code",
   "execution_count": 29,
   "metadata": {},
   "outputs": [
    {
     "name": "stdout",
     "output_type": "stream",
     "text": [
      "no es tu cumpleaños\n",
      "False\n"
     ]
    }
   ],
   "source": [
    "#ejercicio1\n",
    "fh=input(\"¿que fecha es hoy?\")\n",
    "nac=input(\"¿en que fecha naciste?\")\n",
    "if nac<fh: \n",
    "    print (\"es tu cumpleaños\")\n",
    "else:\n",
    " print(\"no es tu cumpleaños\")\n",
    "print(fh>nac)"
   ]
  },
  {
   "cell_type": "code",
   "execution_count": 51,
   "metadata": {},
   "outputs": [
    {
     "name": "stdout",
     "output_type": "stream",
     "text": [
      "5.0 * 8.0 = 40.0\n",
      "0 + 40.0 = 40.0\n"
     ]
    }
   ],
   "source": [
    "#ejercicio2\n",
    "num1 = float(input(\"Introduce el primer número: \"))\n",
    "num2 = float(input(\"Introduce el segundo número: \"))\n",
    "resultado = num1 * num2\n",
    "print(f\"{num1} * {num2} = {resultado}\")\n",
    "for x in range(int(resultado)):\n",
    "    if x + (resultado - x) == resultado:\n",
    "        print(f\"{x} + {resultado - x} = {resultado}\")\n",
    "        break"
   ]
  },
  {
   "cell_type": "code",
   "execution_count": 53,
   "metadata": {},
   "outputs": [
    {
     "name": "stdout",
     "output_type": "stream",
     "text": [
      "¡Tu código postal está dentro del rango de entrega! Podemos enviar cosas a tu dirección.\n"
     ]
    }
   ],
   "source": [
    "#ejercicio3\n",
    "cp= int(input(\"Por favor ingresa tu código postal: \"))\n",
    "if 50000 <=cp<= 50030:\n",
    "    print(\"¡Tu código postal está dentro del rango de entrega! Podemos enviar cosas a tu dirección.\")\n",
    "else:\n",
    "    print(\"Lo siento 😞, tu código postal está fuera del rango de entrega. No podemos entregar cosas a tu dirección.\")"
   ]
  }
 ],
 "metadata": {
  "kernelspec": {
   "display_name": "Python 3",
   "language": "python",
   "name": "python3"
  },
  "language_info": {
   "codemirror_mode": {
    "name": "ipython",
    "version": 3
   },
   "file_extension": ".py",
   "mimetype": "text/x-python",
   "name": "python",
   "nbconvert_exporter": "python",
   "pygments_lexer": "ipython3",
   "version": "3.11.3"
  }
 },
 "nbformat": 4,
 "nbformat_minor": 2
}
